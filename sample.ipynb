{
 "cells": [
  {
   "cell_type": "code",
   "execution_count": null,
   "id": "903f4150",
   "metadata": {},
   "outputs": [
    {
     "ename": "",
     "evalue": "",
     "output_type": "error",
     "traceback": [
      "\u001b[1;31mRunning cells with 'venv (Python 3.12.3)' requires the ipykernel package.\n",
      "\u001b[1;31mInstall 'ipykernel' into the Python environment. \n",
      "\u001b[1;31mCommand: '\"c:/Users/Olanrewaju Lawal/Desktop/Lanre/Softmax Tech Solutions/NLP/StyleSprint/venv/Scripts/python.exe\" -m pip install ipykernel -U --force-reinstall'"
     ]
    }
   ],
   "source": [
    "import torch\n",
    "torch.cuda.is _ available()"
   ]
  },
  {
   "cell_type": "code",
   "execution_count": null,
   "id": "5e7f5425",
   "metadata": {},
   "outputs": [],
   "source": [
    "!pip -q install openai langchain huggingface _ hub\n",
    "!pip install openai langchain[llms] huggingface _ hub"
   ]
  },
  {
   "cell_type": "code",
   "execution_count": null,
   "id": "5df72132",
   "metadata": {},
   "outputs": [],
   "source": [
    "\n",
    "from langchain.llms import OpenAI, HuggingFaceHub"
   ]
  },
  {
   "cell_type": "code",
   "execution_count": null,
   "id": "8fa6d5a8",
   "metadata": {},
   "outputs": [],
   "source": [
    "llm _ neo = HuggingFaceHub(repo _ id=' EleutherAI/gpt-neo-2.7B', model _ kwargs={\"temperature\":0.9})"
   ]
  },
  {
   "cell_type": "code",
   "execution_count": null,
   "id": "d9597deb",
   "metadata": {},
   "outputs": [],
   "source": []
  },
  {
   "cell_type": "code",
   "execution_count": null,
   "id": "eb3a91d4",
   "metadata": {},
   "outputs": [],
   "source": []
  },
  {
   "cell_type": "code",
   "execution_count": null,
   "id": "e43276b7",
   "metadata": {},
   "outputs": [],
   "source": []
  },
  {
   "cell_type": "code",
   "execution_count": null,
   "id": "820f0a4b",
   "metadata": {},
   "outputs": [],
   "source": []
  },
  {
   "cell_type": "code",
   "execution_count": null,
   "id": "ea593fdd",
   "metadata": {},
   "outputs": [],
   "source": []
  },
  {
   "cell_type": "code",
   "execution_count": null,
   "id": "11774d62",
   "metadata": {},
   "outputs": [],
   "source": []
  },
  {
   "cell_type": "code",
   "execution_count": null,
   "id": "59d7a540",
   "metadata": {},
   "outputs": [],
   "source": []
  }
 ],
 "metadata": {
  "kernelspec": {
   "display_name": "venv",
   "language": "python",
   "name": "python3"
  },
  "language_info": {
   "name": "python",
   "version": "3.12.3"
  }
 },
 "nbformat": 4,
 "nbformat_minor": 5
}
